{
  "nbformat": 4,
  "nbformat_minor": 0,
  "metadata": {
    "colab": {
      "name": "checkpoint2.ipynb",
      "provenance": []
    },
    "kernelspec": {
      "name": "python3",
      "display_name": "Python 3"
    },
    "language_info": {
      "name": "python"
    }
  },
  "cells": [
    {
      "cell_type": "code",
      "source": [
        "nom= input(\"entrer votre nom\")\n",
        "prénom= input(\"entrer votre prénom\")\n",
        "print(prénom+\" \"+nom)"
      ],
      "metadata": {
        "colab": {
          "base_uri": "https://localhost:8080/"
        },
        "id": "ktKXSm-aYUkw",
        "outputId": "7e9328bb-1a9d-4c41-af53-943f34591c56"
      },
      "execution_count": 6,
      "outputs": [
        {
          "output_type": "stream",
          "name": "stdout",
          "text": [
            "entrer votre nomdakhyr\n",
            "entrer votre prénom yasmine\n",
            " yasmine dakhyr\n"
          ]
        }
      ]
    },
    {
      "cell_type": "code",
      "source": [
        "n= input(\"entrer une valeur:\")\n",
        "nn=n*2\n",
        "nnn=n*3\n",
        "sum=int(n)+int(nn)+int(nnn)\n",
        "print(sum,\"=\",n,\"+\",nn,\"+\",nnn)"
      ],
      "metadata": {
        "colab": {
          "base_uri": "https://localhost:8080/"
        },
        "id": "vbZNPJMUZvdV",
        "outputId": "982afd1f-469c-4ed9-ac10-4d8d525c9437"
      },
      "execution_count": 17,
      "outputs": [
        {
          "output_type": "stream",
          "name": "stdout",
          "text": [
            "entrer une valeur:5\n",
            "615 = 5 + 55 + 555\n"
          ]
        }
      ]
    },
    {
      "cell_type": "code",
      "source": [
        "n=int(input(\"entrer une valeur:\"))\n",
        "if n%2==0:\n",
        "   print(n,\"est pair\")\n",
        "else:\n",
        "   print(n,\"est impair\")"
      ],
      "metadata": {
        "colab": {
          "base_uri": "https://localhost:8080/"
        },
        "id": "KFTs9ETibf2A",
        "outputId": "dcc4de62-7953-4690-c1ea-d287a92c48fd"
      },
      "execution_count": 20,
      "outputs": [
        {
          "output_type": "stream",
          "name": "stdout",
          "text": [
            "entrer une valeur:-3\n",
            "-3 est impair\n"
          ]
        }
      ]
    },
    {
      "cell_type": "code",
      "source": [
        "for i in range(2000,3201):\n",
        "   if i%7==0 and i%5!=0:\n",
        "     print(i, end=\",\")"
      ],
      "metadata": {
        "colab": {
          "base_uri": "https://localhost:8080/"
        },
        "id": "iLZVv_Crci1g",
        "outputId": "74e37786-652e-46c9-d094-bf5afe59d905"
      },
      "execution_count": 26,
      "outputs": [
        {
          "output_type": "stream",
          "name": "stdout",
          "text": [
            "2002,2009,2016,2023,2037,2044,2051,2058,2072,2079,2086,2093,2107,2114,2121,2128,2142,2149,2156,2163,2177,2184,2191,2198,2212,2219,2226,2233,2247,2254,2261,2268,2282,2289,2296,2303,2317,2324,2331,2338,2352,2359,2366,2373,2387,2394,2401,2408,2422,2429,2436,2443,2457,2464,2471,2478,2492,2499,2506,2513,2527,2534,2541,2548,2562,2569,2576,2583,2597,2604,2611,2618,2632,2639,2646,2653,2667,2674,2681,2688,2702,2709,2716,2723,2737,2744,2751,2758,2772,2779,2786,2793,2807,2814,2821,2828,2842,2849,2856,2863,2877,2884,2891,2898,2912,2919,2926,2933,2947,2954,2961,2968,2982,2989,2996,3003,3017,3024,3031,3038,3052,3059,3066,3073,3087,3094,3101,3108,3122,3129,3136,3143,3157,3164,3171,3178,3192,3199,"
          ]
        }
      ]
    },
    {
      "cell_type": "code",
      "source": [
        "n=int(input(\"entrer une valeur :\"))\n",
        "if n==0 or n==1:\n",
        "    print(1)\n",
        "    \n",
        "else:\n",
        "      f=1\n",
        "      for i in range(1,n+1):\n",
        "        f=f*1\n",
        "print(f)\n",
        "\n",
        "\n"
      ],
      "metadata": {
        "colab": {
          "base_uri": "https://localhost:8080/"
        },
        "id": "HVbPZsPVd1Ja",
        "outputId": "9cf8ba55-e186-49fd-a48c-62503c65e937"
      },
      "execution_count": 43,
      "outputs": [
        {
          "output_type": "stream",
          "name": "stdout",
          "text": [
            "entrer une valeur :5\n",
            "1\n"
          ]
        }
      ]
    },
    {
      "cell_type": "code",
      "source": [
        "string= input(\"entrer une chaine:\")\n",
        "if ch%2==0:\n",
        "print(ch)\n"
      ],
      "metadata": {
        "colab": {
          "base_uri": "https://localhost:8080/",
          "height": 130
        },
        "id": "Vg7lixRXik3d",
        "outputId": "2b3f3a66-8fbd-4b09-8292-96c7e6be9d2b"
      },
      "execution_count": 68,
      "outputs": [
        {
          "output_type": "error",
          "ename": "IndentationError",
          "evalue": "ignored",
          "traceback": [
            "\u001b[0;36m  File \u001b[0;32m\"<ipython-input-68-189c86bfc21c>\"\u001b[0;36m, line \u001b[0;32m3\u001b[0m\n\u001b[0;31m    print(ch)\u001b[0m\n\u001b[0m        ^\u001b[0m\n\u001b[0;31mIndentationError\u001b[0m\u001b[0;31m:\u001b[0m expected an indented block\n"
          ]
        }
      ]
    },
    {
      "cell_type": "code",
      "source": [
        "pr=int(input(\"entrer le prix:\"))\n",
        "if pr>=500:\n",
        " f=pr*(1-0.5)\n",
        " print(\"le montant après réduction est :\",f) \n",
        "elif 200>=pr and pr<500:\n",
        " f=pr*(1-0.3)\n",
        " print(\"le montant après réduction est :\",f)\n",
        "else:\n",
        " f=pr*(1-0.1)\n",
        "print(\"le montant après réduction est :\",f)"
      ],
      "metadata": {
        "colab": {
          "base_uri": "https://localhost:8080/"
        },
        "id": "HNt2xlAYmwDr",
        "outputId": "02245853-f965-4f55-ea9f-4bf36deb704a"
      },
      "execution_count": 65,
      "outputs": [
        {
          "output_type": "stream",
          "name": "stdout",
          "text": [
            "entrer le prix:500\n",
            "le montant après réduction est : 250.0\n",
            "le montant après réduction est : 250.0\n"
          ]
        }
      ]
    }
  ]
}